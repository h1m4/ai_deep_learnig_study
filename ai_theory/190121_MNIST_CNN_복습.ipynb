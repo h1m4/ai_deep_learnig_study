{
  "nbformat": 4,
  "nbformat_minor": 0,
  "metadata": {
    "colab": {
      "name": "190121 MNIST_CNN_복습.ipynb",
      "version": "0.3.2",
      "provenance": [],
      "collapsed_sections": [],
      "include_colab_link": true
    },
    "kernelspec": {
      "name": "python3",
      "display_name": "Python 3"
    },
    "accelerator": "GPU"
  },
  "cells": [
    {
      "cell_type": "markdown",
      "metadata": {
        "id": "view-in-github",
        "colab_type": "text"
      },
      "source": [
        "<a href=\"https://colab.research.google.com/github/h1m4/ai_deep_learning_study/blob/master/ai_theory/190121_MNIST_CNN_%EB%B3%B5%EC%8A%B5.ipynb\" target=\"_parent\"><img src=\"https://colab.research.google.com/assets/colab-badge.svg\" alt=\"Open In Colab\"/></a>"
      ]
    },
    {
      "metadata": {
        "id": "cl56HmCW9iOa",
        "colab_type": "code",
        "colab": {}
      },
      "cell_type": "code",
      "source": [
        "import os\n",
        "import numpy as np\n",
        "\n",
        "from tensorflow.keras.datasets import mnist as dataset\n",
        "from keras.utils import to_categorical\n",
        "import tensorflow as tf"
      ],
      "execution_count": 0,
      "outputs": []
    },
    {
      "metadata": {
        "id": "9ic7o63aBD8Z",
        "colab_type": "text"
      },
      "cell_type": "markdown",
      "source": [
        "# Set Hyperparameter"
      ]
    },
    {
      "metadata": {
        "id": "hkFi-is7ACIh",
        "colab_type": "code",
        "colab": {}
      },
      "cell_type": "code",
      "source": [
        "num_classes = 10\n",
        "\n",
        "learning_rate = 0.001 #  경사 하강법에서 학습 단계별로 움직이는 학습 속도를 정의\n",
        "batch_size = 64 # 한 번 학습이 이루어지는 수\n",
        "num_epochs = 10 # 전체 몇 번 돌릴 것인가\n",
        "\n",
        "drop_rate = 0.5 # 전체 weight을 계산에 참여시키는 것이 아니라 layer에 포함된 weight 중에서 일부만 참여시키는 것이다. "
      ],
      "execution_count": 0,
      "outputs": []
    },
    {
      "metadata": {
        "id": "t3sbVXW-BZh3",
        "colab_type": "code",
        "colab": {}
      },
      "cell_type": "code",
      "source": [
        "(train_images, train_labels), (test_images, test_labels) = dataset.load_data()"
      ],
      "execution_count": 0,
      "outputs": []
    },
    {
      "metadata": {
        "id": "hfxeFUk2NGps",
        "colab_type": "code",
        "colab": {}
      },
      "cell_type": "code",
      "source": [
        "import matplotlib.pyplot as plt\n",
        "% matplotlib inline"
      ],
      "execution_count": 0,
      "outputs": []
    },
    {
      "metadata": {
        "id": "iuLCc07PClK-",
        "colab_type": "code",
        "colab": {
          "base_uri": "https://localhost:8080/",
          "height": 283
        },
        "outputId": "c2f61628-9ab4-4d84-94f8-f383acac5373"
      },
      "cell_type": "code",
      "source": [
        "plt.imshow(train_images[0])\n",
        "plt.show()\n",
        "\n",
        "train_images[0].shape # 2차원임"
      ],
      "execution_count": 27,
      "outputs": [
        {
          "output_type": "display_data",
          "data": {
            "image/png": "[encoded data removed]",
            "text/plain": [
              "<Figure size 432x288 with 1 Axes>"
            ]
          },
          "metadata": {
            "tags": []
          }
        },
        {
          "output_type": "execute_result",
          "data": {
            "text/plain": [
              "(28, 28)"
            ]
          },
          "metadata": {
            "tags": []
          },
          "execution_count": 27
        }
      ]
    },
    {
      "metadata": {
        "id": "7km2KJekCsGQ",
        "colab_type": "code",
        "outputId": "5b09239b-6b3c-42d6-ff0f-38bb5970f422",
        "colab": {
          "base_uri": "https://localhost:8080/",
          "height": 35
        }
      },
      "cell_type": "code",
      "source": [
        "train_images.shape"
      ],
      "execution_count": 5,
      "outputs": [
        {
          "output_type": "execute_result",
          "data": {
            "text/plain": [
              "(60000, 28, 28)"
            ]
          },
          "metadata": {
            "tags": []
          },
          "execution_count": 5
        }
      ]
    },
    {
      "metadata": {
        "id": "7Oy3LL_uaunm",
        "colab_type": "text"
      },
      "cell_type": "markdown",
      "source": [
        "컨볼루션과 pooling의 차이점\n",
        "\n",
        "* 컨볼루션은 하나를 줄이는 것, 풀링은 그렇게 줄인 것을 다층화시켜서 줄이는 것???????\n",
        "\n",
        "\n",
        "컨볼루션 레이어 이외에 풀링(pooling) 레이어라고 불리우는 레이어가 콘볼루션 레이어 뒤에 따라 오는게 일반적입니다. 풀링 레이어는 콘볼루션 레이어의 출력 값을 단순하게 압축해주고 콘볼루션 레이어가 생산해낸 정보를 컴팩트한 버전으로 만들어 줍니다"
      ]
    },
    {
      "metadata": {
        "id": "eaX1t7uPC3iz",
        "colab_type": "code",
        "colab": {}
      },
      "cell_type": "code",
      "source": [
        "# def build_model(input_shape):\n",
        "# #      Convolution\n",
        "#     inputs = tf.keras.layers.Input(input_shape)\n",
        "    \n",
        "#     conv = tf.keras.layers.Conv2D(filters=32, kernel_size=(3, 3),\n",
        "#                                   strides=(1, 1), padding='SAME',\n",
        "#                                   name='conv_1')(inputs)\n",
        "#     acts = tf.keras.layers.ReLU()(conv)\n",
        "    \n",
        "#     conv = tf.keras.layers.Conv2D(filters=64, kernel_size=(3, 3),\n",
        "#                                   strides=(1, 1), padding='SAME',\n",
        "#                                   name='conv_2')(conv)\n",
        "#     acts = tf.keras.layers.ReLU()(conv)\n",
        "    \n",
        "#     pool = tf.keras.layers.MaxPool2D()(acts)\n",
        "    \n",
        "# #     Fully Connected\n",
        "#     drop = tf.keras.layers.Dropout(drop_rate)(pool) # 단순화 과정\n",
        "#     flat = tf.keras.layers.Flatten()(drop) # 늘어뜨리는 과정\n",
        "#     dense = tf.keras.layers.Dense(128, activation='relu')(flat) # 늘어난 노드의 갯수이자 이만큼 계산됨 \n",
        "#     drop = tf.keras.layers.Dropout(drop_rate)(dense)\n",
        "#     dense = tf.keras.layers.Dense(num_classes, activation='softmax')(drop)\n",
        "    \n",
        "#     return tf.keras.Model(inputs=inputs, outputs=dense)"
      ],
      "execution_count": 0,
      "outputs": []
    },
    {
      "metadata": {
        "id": "jgVEDjSNGV0v",
        "colab_type": "code",
        "colab": {}
      },
      "cell_type": "code",
      "source": [
        "def conv_block(inputs, filters=64, kernel_size=(3, 3), strides=(1, 1), name='conv'):\n",
        "    conv = tf.keras.layers.Conv2D(filters=filters,\n",
        "                                  kernel_size=kernel_size,\n",
        "                                  strides=strides,\n",
        "                                  padding='SAME',\n",
        "                                  name=name)(inputs)\n",
        "    norm = tf.keras.layers.BatchNormalization()(conv) #  internal covariate shift를 줄이는 것이다. 신경망의 각 레이어의 분포를 같게함으로써 좀더 안정적인 학습이 가능하다.\n",
        "    acts = tf.keras.layers.ReLU()(norm)\n",
        "    return acts\n",
        "\n",
        "def max_pooling(inputs, name='pool'): #  2×2 영역에서 가장 큰 값을 선택해서 정보를 압축합니다.\n",
        "    return tf.keras.layers.MaxPool2D(name=name)(inputs)\n",
        "\n",
        "'''\n",
        "pooling을 convolution의 후속과정이 아닌 별도의 개념으로 정의합니다.\n",
        "예를 들어 convolution을 matrix 연산에 의해 얻는 것이라면,\n",
        "pooling은 matrix 연산을 사용하지 않고 각 pixel에서 하나의 값을 뽑아내는 과정으로도 이해할 수 있습니다.\n",
        "\n",
        "\n",
        "relu : 올라가는 거...그래프...그거...반응?\n",
        "'''\n",
        "\n",
        "def build_model(input_shape):\n",
        "    with tf.variable_scope(\"conv_layer\"):\n",
        "        inputs = tf.keras.layers.Input(input_shape)\n",
        "        net = conv_block(inputs, filters=64, name='conv_1_1')\n",
        "        net = conv_block(net, filters=64, name='conv_1_2')\n",
        "        net = max_pooling(net, name='pool_1')\n",
        "\n",
        "        net = conv_block(net, filters=128, name='conv_2_1')\n",
        "        net = conv_block(net, filters=128, name='conv_2_2')\n",
        "        net = max_pooling(net, name='pool_2')\n",
        "\n",
        "        net = conv_block(net, filters=256, name='conv_3_1')\n",
        "        net = conv_block(net, filters=256, name='conv_3_2')\n",
        "        net = conv_block(net, filters=256, name='conv_3_3')\n",
        "        net = max_pooling(net, name='pool_3')\n",
        "\n",
        "        net = conv_block(net, filters=512, name='conv_4_1')\n",
        "        net = conv_block(net, filters=512, name='conv_4_2')\n",
        "        net = conv_block(net, filters=512, name='conv_4_3')\n",
        "        net = max_pooling(net, name='pool_4')\n",
        "\n",
        "        net = conv_block(net, filters=512, name='conv_5_1')\n",
        "        net = conv_block(net, filters=512, name='conv_5_2')\n",
        "        net = conv_block(net, filters=512, name='conv_5_3')\n",
        "        net = max_pooling(net, name='pool_5')\n",
        "\n",
        "    with tf.variable_scope(\"FC_layer\"):\n",
        "        net = tf.keras.layers.Flatten()(net)\n",
        "        net = tf.keras.layers.Dense(4096, activation='relu')(net)\n",
        "        net = tf.keras.layers.Dropout(drop_rate)(net)\n",
        "        net = tf.keras.layers.Dense(4096, activation='relu')(net)\n",
        "        net = tf.keras.layers.Dropout(drop_rate)(net)\n",
        "        net = tf.keras.layers.Dense(num_classes, activation='softmax')(net)\n",
        "    return tf.keras.Model(inputs=inputs, outputs=net)"
      ],
      "execution_count": 0,
      "outputs": []
    },
    {
      "metadata": {
        "id": "9RSDbxhqFJ6v",
        "colab_type": "text"
      },
      "cell_type": "markdown",
      "source": [
        "# Optimization"
      ]
    },
    {
      "metadata": {
        "id": "3Z-r7gkNFERi",
        "colab_type": "code",
        "colab": {}
      },
      "cell_type": "code",
      "source": [
        "model = build_model((28, 28, 1))\n",
        "model.compile(optimizer=tf.train.AdamOptimizer(learning_rate),\n",
        "              loss='categorical_crossentropy', #손실은 한 가지 예에서 모델의 예측이 얼마나 잘못되었는지를 나타내는 수\n",
        "              metrics=['accuracy'])"
      ],
      "execution_count": 0,
      "outputs": []
    },
    {
      "metadata": {
        "id": "wvGhC8GzFeA-",
        "colab_type": "code",
        "outputId": "00949f3c-1542-44cc-b448-0d12740cf5e0",
        "colab": {
          "base_uri": "https://localhost:8080/",
          "height": 413
        }
      },
      "cell_type": "code",
      "source": [
        "model.fit(x=np.expand_dims(train_images, -1), # expand_dims는 axis에 차원을 추가한다. -1의 경우 마지막에 차원을 추가함 원래 차원 x (28, 28)이라서 그런것\n",
        "          y=to_categorical(train_labels, num_classes),\n",
        "          epochs=int(num_epochs),\n",
        "          batch_size=batch_size,\n",
        "          validation_data = (np.expand_dims(test_images, -1), #?? dims가 뭐임\n",
        "                             to_categorical(test_labels, num_classes)))"
      ],
      "execution_count": 24,
      "outputs": [
        {
          "output_type": "stream",
          "text": [
            "Train on 60000 samples, validate on 10000 samples\n",
            "Epoch 1/10\n",
            "60000/60000 [==============================] - 12s 202us/step - loss: 9.0416 - acc: 0.4357 - val_loss: 6.1926 - val_acc: 0.6143\n",
            "Epoch 2/10\n",
            "60000/60000 [==============================] - 11s 187us/step - loss: 6.2463 - acc: 0.6104 - val_loss: 4.8063 - val_acc: 0.7008\n",
            "Epoch 3/10\n",
            "60000/60000 [==============================] - 11s 187us/step - loss: 5.3794 - acc: 0.6651 - val_loss: 3.8580 - val_acc: 0.7590\n",
            "Epoch 4/10\n",
            "60000/60000 [==============================] - 11s 181us/step - loss: 4.6743 - acc: 0.7091 - val_loss: 3.2370 - val_acc: 0.7985\n",
            "Epoch 5/10\n",
            "60000/60000 [==============================] - 11s 179us/step - loss: 4.3796 - acc: 0.7275 - val_loss: 2.9454 - val_acc: 0.8166\n",
            "Epoch 6/10\n",
            "60000/60000 [==============================] - 11s 183us/step - loss: 4.0427 - acc: 0.7485 - val_loss: 2.9121 - val_acc: 0.8191\n",
            "Epoch 7/10\n",
            "60000/60000 [==============================] - 11s 188us/step - loss: 3.9635 - acc: 0.7538 - val_loss: 2.8526 - val_acc: 0.8229\n",
            "Epoch 8/10\n",
            "60000/60000 [==============================] - 11s 187us/step - loss: 4.1847 - acc: 0.7400 - val_loss: 4.2682 - val_acc: 0.7349\n",
            "Epoch 9/10\n",
            "60000/60000 [==============================] - 11s 186us/step - loss: 4.5955 - acc: 0.7146 - val_loss: 2.8010 - val_acc: 0.8260\n",
            "Epoch 10/10\n",
            "60000/60000 [==============================] - 11s 180us/step - loss: 4.0029 - acc: 0.7514 - val_loss: 2.7547 - val_acc: 0.8289\n"
          ],
          "name": "stdout"
        },
        {
          "output_type": "execute_result",
          "data": {
            "text/plain": [
              "<tensorflow.python.keras.callbacks.History at 0x7fce7d77e668>"
            ]
          },
          "metadata": {
            "tags": []
          },
          "execution_count": 24
        }
      ]
    },
    {
      "metadata": {
        "id": "9ltsBzNuGACb",
        "colab_type": "code",
        "colab": {}
      },
      "cell_type": "code",
      "source": [
        ""
      ],
      "execution_count": 0,
      "outputs": []
    }
  ]
}